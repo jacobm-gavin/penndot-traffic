{
 "nbformat": 4,
 "nbformat_minor": 0,
 "metadata": {
  "colab": {
   "provenance": [],
   "authorship_tag": "ABX9TyN1csUCvUlBFrfE4rZR61zj",
   "include_colab_link": true
  },
  "kernelspec": {
   "name": "python3",
   "display_name": "Python 3"
  },
  "language_info": {
   "name": "python"
  }
 },
 "cells": [
  {
   "cell_type": "markdown",
   "metadata": {
    "id": "view-in-github",
    "colab_type": "text"
   },
   "source": [
    "<a href=\"https://colab.research.google.com/github/jacobm-gavin/penndot-traffic/blob/main/Penndot_Traffic.ipynb\" target=\"_parent\"><img src=\"https://colab.research.google.com/assets/colab-badge.svg\" alt=\"Open In Colab\"/></a>"
   ]
  },
  {
   "cell_type": "code",
   "execution_count": null,
   "metadata": {
    "id": "O0OC2CKxU4Mg"
   },
   "outputs": [],
   "source": [
    "import matplotlib.pyplot as plt\n",
    "import numpy as np\n",
    "import matplotlib as mpl\n",
    "import pandas as pd\n",
    "import sklearn as skl\n",
    "import matplotlib.pyplot as pympl"
   ]
  },
  {
   "metadata": {},
   "cell_type": "code",
   "outputs": [],
   "execution_count": null,
   "source": [
    "Crash = pd.read_csv('Statewide_2024\\CRASH_2024.csv')\n",
    "print(Crash)"
   ]
  },
  {
   "metadata": {},
   "cell_type": "markdown",
   "source": "This gets a basic scatterplot of all crashes available (Basically maps out PA)"
  },
  {
   "metadata": {},
   "cell_type": "code",
   "outputs": [],
   "execution_count": null,
   "source": [
    "pympl.scatter(Crash['DEC_LONGITUDE'], Crash['DEC_LATITUDE'])\n",
    "pympl.xlabel('Longitude')\n",
    "pympl.ylabel('Latitude')\n",
    "pympl.show()"
   ]
  },
  {
   "metadata": {},
   "cell_type": "code",
   "outputs": [],
   "execution_count": null,
   "source": [
    "CrashNew = Crash.dropna(subset=['DEC_LONGITUDE', 'DEC_LATITUDE']) #Get rid of NA coordinate values\n",
    "print(CrashNew)"
   ]
  },
  {
   "metadata": {},
   "cell_type": "markdown",
   "source": "Heatmap for PA crash data on a 100x100 grid."
  },
  {
   "metadata": {},
   "cell_type": "code",
   "outputs": [],
   "execution_count": null,
   "source": [
    "pympl.hist2d(CrashNew['DEC_LONGITUDE'], CrashNew['DEC_LATITUDE'], bins = 100, cmap = 'Grays')\n",
    "pympl.colorbar(label = 'Counts')\n",
    "pympl.xlabel('Longitude')\n",
    "pympl.ylabel('Latitude')\n",
    "pympl.savefig('BlackAndWhite_CrashHeatMap.png', transparent=True)\n",
    "pympl.show()"
   ]
  }
 ]
}
